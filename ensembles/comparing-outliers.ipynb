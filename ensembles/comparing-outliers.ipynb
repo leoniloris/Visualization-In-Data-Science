{
 "cells": [
  {
   "cell_type": "code",
   "execution_count": 129,
   "metadata": {},
   "outputs": [],
   "source": [
    "from importlib import reload\n",
    "import dataset as d; reload(d)\n",
    "import matplotlib.pyplot as plt\n",
    "from scipy import stats\n",
    "import numpy as np\n",
    "import ipywidgets as widgets\n",
    "from ipywidgets import interact, FloatSlider"
   ]
  },
  {
   "cell_type": "code",
   "execution_count": 130,
   "metadata": {},
   "outputs": [],
   "source": [
    "df = d.load_database()"
   ]
  },
  {
   "cell_type": "code",
   "execution_count": 131,
   "metadata": {},
   "outputs": [],
   "source": [
    "PREDICTED_COLUMNS = ['diagnosis', 'radius_mean']\n",
    "FEATURES_PREFIX = 'mean'\n",
    "x, y = d.create_xy(df, FEATURES_PREFIX, PREDICTED_COLUMNS)\n",
    "N_FEATURES = len(x.columns)"
   ]
  },
  {
   "cell_type": "code",
   "execution_count": 132,
   "metadata": {},
   "outputs": [],
   "source": [
    "x_healthy, y_healthy = x[diagnosis == 'B'], y[diagnosis == 'B']"
   ]
  },
  {
   "cell_type": "markdown",
   "metadata": {},
   "source": [
    "# Comparing Outlier detection methods"
   ]
  },
  {
   "cell_type": "markdown",
   "metadata": {},
   "source": [
    "- Which features am I taking into account to detect outliers? \n",
    "    - Univariate \n",
    "        - Box plots, Z-Scores\n",
    "    - Multivariate\n",
    "- Can I assume a distribution(s) of values for my selected features? \n",
    "    - Parametric \n",
    "        - Z-Score, IQR score\n",
    "    - Non-parametric\n",
    "        - PCA, LMS, Proximity Based Models"
   ]
  },
  {
   "cell_type": "markdown",
   "metadata": {},
   "source": [
    "### Sources of outliers\n",
    "* Data entry errors\n",
    "* Measurement errors (instrument errors)\n",
    "* Experimental errors (data extraction or experiment planning/executing errors)\n",
    "* Natural (not an error, novelties in data)"
   ]
  },
  {
   "cell_type": "markdown",
   "metadata": {},
   "source": [
    "### IQR score"
   ]
  },
  {
   "cell_type": "code",
   "execution_count": 133,
   "metadata": {},
   "outputs": [],
   "source": [
    "q1 = x.quantile(0.25)\n",
    "q3 = x.quantile(0.75)\n",
    "IQR = q3 - q1"
   ]
  },
  {
   "cell_type": "code",
   "execution_count": 159,
   "metadata": {},
   "outputs": [],
   "source": [
    "from mpl_toolkits.mplot3d import Axes3D"
   ]
  },
  {
   "cell_type": "code",
   "execution_count": 171,
   "metadata": {},
   "outputs": [
    {
     "data": {
      "application/vnd.jupyter.widget-view+json": {
       "model_id": "b2a8519ffec14c308ec2658786dc3066",
       "version_major": 2,
       "version_minor": 0
      },
      "text/html": [
       "<p>Failed to display Jupyter Widget of type <code>HBox</code>.</p>\n",
       "<p>\n",
       "  If you're reading this message in Jupyter Notebook or JupyterLab, it may mean\n",
       "  that the widgets JavaScript is still loading. If this message persists, it\n",
       "  likely means that the widgets JavaScript library is either not installed or\n",
       "  not enabled. See the <a href=\"https://ipywidgets.readthedocs.io/en/stable/user_install.html\">Jupyter\n",
       "  Widgets Documentation</a> for setup instructions.\n",
       "</p>\n",
       "<p>\n",
       "  If you're reading this message in another notebook frontend (for example, a static\n",
       "  rendering on GitHub or <a href=\"https://nbviewer.jupyter.org/\">NBViewer</a>),\n",
       "  it may mean that your frontend doesn't currently support widgets.\n",
       "</p>\n"
      ],
      "text/plain": [
       "HBox(children=(FloatSlider(value=0.0, max=2.0, step=0.05), FloatSlider(value=0.0, max=1.0, step=0.01)))"
      ]
     },
     "metadata": {},
     "output_type": "display_data"
    },
    {
     "data": {
      "application/vnd.jupyter.widget-view+json": {
       "model_id": "87082bd9cb384ee58a919cfc67df8923",
       "version_major": 2,
       "version_minor": 0
      },
      "text/html": [
       "<p>Failed to display Jupyter Widget of type <code>Output</code>.</p>\n",
       "<p>\n",
       "  If you're reading this message in Jupyter Notebook or JupyterLab, it may mean\n",
       "  that the widgets JavaScript is still loading. If this message persists, it\n",
       "  likely means that the widgets JavaScript library is either not installed or\n",
       "  not enabled. See the <a href=\"https://ipywidgets.readthedocs.io/en/stable/user_install.html\">Jupyter\n",
       "  Widgets Documentation</a> for setup instructions.\n",
       "</p>\n",
       "<p>\n",
       "  If you're reading this message in another notebook frontend (for example, a static\n",
       "  rendering on GitHub or <a href=\"https://nbviewer.jupyter.org/\">NBViewer</a>),\n",
       "  it may mean that your frontend doesn't currently support widgets.\n",
       "</p>\n"
      ],
      "text/plain": [
       "Output()"
      ]
     },
     "metadata": {},
     "output_type": "display_data"
    }
   ],
   "source": [
    "from sklearn.decomposition import PCA\n",
    "pca = PCA(n_components=2)\n",
    "\n",
    "k = FloatSlider(min=0, max=2.0, step=.05)\n",
    "threshold_vote_outlier = FloatSlider(min=0, max=1, step=.01)\n",
    "\n",
    "ui = widgets.HBox([k, threshold_vote_outlier])\n",
    "\n",
    "def plot(x, outliers_idx, real_outlier_index):\n",
    "    fig = plt.figure(figsize=(16, 10))\n",
    "    ax = fig.add_subplot(111)\n",
    "    ax.scatter(x[~outliers_idx, 0], x[~outliers_idx, 1], alpha=0.4, label='Inliers', c='r')\n",
    "    ax.scatter(x[outliers_idx, 0], x[outliers_idx, 1], alpha=0.5, label='Predicted outliers', c='g')\n",
    "    ax.scatter(x[real_outlier_index, 0], x[real_outlier_index, 1], alpha=0.2, label='Real outliers', c='b')\n",
    "\n",
    "    plt.legend(loc='upper left')\n",
    "    plt.grid()\n",
    "    plt.show()\n",
    "    \n",
    "def f(k, threshold_vote_outlier):\n",
    "    x_pca = pca.fit(x.values).transform(x.values)\n",
    "    outliers_candidates = (x < (q1 - k * IQR)) | (x > (q3 + k * IQR))\n",
    "    outliers_idx = outliers_candidates.apply(lambda c: c.mean() >= threshold_vote_outlier, axis=1)\n",
    "    print('# Of Outliers %s' % sum(outliers_idx))\n",
    "    print('% Of correct outlier predictions: ', (sum(outliers_idx == (diagnosis == 'M'))) / len(outliers_idx))\n",
    "    plot(x_pca, outliers_idx, diagnosis == 'M')   \n",
    "    \n",
    "\n",
    "out = widgets.interactive_output(f, {'k': k, 'threshold_vote_outlier': threshold_vote_outlier})\n",
    "display(ui, out)"
   ]
  },
  {
   "cell_type": "code",
   "execution_count": 97,
   "metadata": {},
   "outputs": [
    {
     "data": {
      "text/plain": [
       "0.6"
      ]
     },
     "execution_count": 97,
     "metadata": {},
     "output_type": "execute_result"
    }
   ],
   "source": [
    "k.value"
   ]
  }
 ],
 "metadata": {
  "kernelspec": {
   "display_name": "Python 3",
   "language": "python",
   "name": "python3"
  },
  "language_info": {
   "codemirror_mode": {
    "name": "ipython",
    "version": 3
   },
   "file_extension": ".py",
   "mimetype": "text/x-python",
   "name": "python",
   "nbconvert_exporter": "python",
   "pygments_lexer": "ipython3",
   "version": "3.6.2"
  }
 },
 "nbformat": 4,
 "nbformat_minor": 2
}
