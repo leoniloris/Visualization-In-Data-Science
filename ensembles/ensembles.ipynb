{
 "cells": [
  {
   "cell_type": "code",
   "execution_count": null,
   "metadata": {},
   "outputs": [],
   "source": [
    "import pandas as pd\n",
    "from plotnine import *\n",
    "import numpy as np\n",
    "import seaborn as sns\n",
    "import matplotlib.pyplot as plt\n",
    "import keras\n",
    "from keras.layers import *\n",
    "from keras.models import Model, Sequential\n",
    "%matplotlib inline"
   ]
  },
  {
   "cell_type": "markdown",
   "metadata": {},
   "source": [
    "## Load data"
   ]
  },
  {
   "cell_type": "code",
   "execution_count": null,
   "metadata": {},
   "outputs": [],
   "source": [
    "import os\n",
    "os.system('kaggle datasets download -d uciml/pima-indians-diabetes-database -f diabetes.csv');"
   ]
  },
  {
   "cell_type": "code",
   "execution_count": null,
   "metadata": {},
   "outputs": [],
   "source": [
    "dataset_df = pd.read_csv('diabetes.csv')\n",
    "dataset_df.head()"
   ]
  },
  {
   "cell_type": "markdown",
   "metadata": {},
   "source": [
    "## Preprocess data"
   ]
  },
  {
   "cell_type": "code",
   "execution_count": null,
   "metadata": {},
   "outputs": [],
   "source": [
    "means = dataset_df.mean(axis=0)\n",
    "# dataset_df = dataset_df - dataset_df.mean(axis=0)\n",
    "dataset_df /= dataset_df.max(axis=0)"
   ]
  },
  {
   "cell_type": "markdown",
   "metadata": {},
   "source": [
    "## Select heathy people data"
   ]
  },
  {
   "cell_type": "code",
   "execution_count": null,
   "metadata": {},
   "outputs": [],
   "source": [
    "df_healthy = dataset_df[dataset_df.Outcome <= 0]"
   ]
  },
  {
   "cell_type": "code",
   "execution_count": null,
   "metadata": {},
   "outputs": [],
   "source": [
    "df_healthy.head()"
   ]
  },
  {
   "cell_type": "code",
   "execution_count": null,
   "metadata": {},
   "outputs": [],
   "source": [
    "REMOVE_FEATURES = ['BMI', 'Outcome']\n",
    "FEATURES = [feature for feature in df_healthy.columns if feature not in REMOVE_FEATURES]\n",
    "N_FEATURES = len(FEATURES)"
   ]
  },
  {
   "cell_type": "code",
   "execution_count": null,
   "metadata": {},
   "outputs": [],
   "source": [
    "x_train = df_healthy[FEATURES].values\n",
    "y_train = df_healthy[[REMOVE_FEATURES[0]]].values"
   ]
  },
  {
   "cell_type": "markdown",
   "metadata": {},
   "source": [
    "## Create an ensemble of models"
   ]
  },
  {
   "cell_type": "code",
   "execution_count": null,
   "metadata": {},
   "outputs": [],
   "source": [
    "def create_base_model(n_hidden):\n",
    "    i = Input((N_FEATURES, ))\n",
    "    h = Dense(n_hidden, kernel_initializer='normal', use_bias=True)(i)\n",
    "    h = LeakyReLU()(h)\n",
    "#     h = Dense(n_hidden, kernel_initializer='normal', activation='relu', use_bias=False)(h)\n",
    "    o = Dense(1)(h)\n",
    "    return Model(i, o)"
   ]
  },
  {
   "cell_type": "code",
   "execution_count": null,
   "metadata": {},
   "outputs": [],
   "source": [
    "models = []\n",
    "N_MODELS = 5\n",
    "n_hidden_neurons = 16\n",
    "for _ in range(N_MODELS):\n",
    "    models.append(create_base_model(n_hidden_neurons))"
   ]
  },
  {
   "cell_type": "code",
   "execution_count": null,
   "metadata": {},
   "outputs": [],
   "source": [
    "models[0].summary()"
   ]
  },
  {
   "cell_type": "markdown",
   "metadata": {},
   "source": [
    "## Train ensemble"
   ]
  },
  {
   "cell_type": "code",
   "execution_count": null,
   "metadata": {},
   "outputs": [],
   "source": [
    "# def train_model(model, input, target, n_epochs, lr=0.2):\n",
    "# #     model.compile(optimizer=keras.optimizers.RMSprop(lr=0.02), loss='mean_squared_error', metrics=['mae'])\n",
    "#     model.compile(optimizer=keras.optimizers.Adam(lr=lr), loss='mean_squared_error', metrics=['mae'])\n",
    "# #     model.fit(input, target, epochs=150)\n",
    "#     return Model.fit(input, target, epochs=n_epochs, validation_split=0.2)\n",
    "\n",
    "def train(model, x, y, lr, batch_size, epochs=1, history=None):\n",
    "    current_epoch = 0 if history is None else len(history.history['loss'])\n",
    "    model.compile(\n",
    "        loss='mean_squared_error',\n",
    "        optimizer=keras.optimizers.Adam(lr=lr),\n",
    "        metrics=['mae']\n",
    "    )\n",
    "    \n",
    "    new_history = model.fit(\n",
    "        x, y, epochs=current_epoch+epochs,\n",
    "        batch_size=batch_size,\n",
    "        initial_epoch=current_epoch,\n",
    "        verbose=1\n",
    "    )\n",
    "    \n",
    "    if history is not None:\n",
    "        for key in new_history.history:\n",
    "            history.history[key].extend(new_history.history[key])\n",
    "    else:\n",
    "        history = new_history\n",
    "    \n",
    "    return history"
   ]
  },
  {
   "cell_type": "code",
   "execution_count": null,
   "metadata": {
    "scrolled": false
   },
   "outputs": [],
   "source": [
    "from collections import defaultdict\n",
    "histories = defaultdict(lambda:None)\n",
    "for lr in [0.1]:\n",
    "    for i in range(N_MODELS):\n",
    "        histories[i] = train(models[i], x_train, y_train, lr, 200, history=histories[i])"
   ]
  },
  {
   "cell_type": "code",
   "execution_count": null,
   "metadata": {},
   "outputs": [],
   "source": [
    "models[0].predict(x_train)"
   ]
  },
  {
   "cell_type": "code",
   "execution_count": null,
   "metadata": {},
   "outputs": [],
   "source": [
    "y_train_pred = models[1].predict(x_train).flatten()\n",
    "\n",
    "plt.scatter(y_train, y_train_pred)\n",
    "plt.axis('equal')\n",
    "plt.xlim(plt.xlim())\n",
    "plt.ylim(plt.ylim())"
   ]
  },
  {
   "cell_type": "markdown",
   "metadata": {},
   "source": [
    "Done!"
   ]
  }
 ],
 "metadata": {
  "kernelspec": {
   "display_name": "Python 3",
   "language": "python",
   "name": "python3"
  },
  "language_info": {
   "codemirror_mode": {
    "name": "ipython",
    "version": 3
   },
   "file_extension": ".py",
   "mimetype": "text/x-python",
   "name": "python",
   "nbconvert_exporter": "python",
   "pygments_lexer": "ipython3",
   "version": "3.6.2"
  }
 },
 "nbformat": 4,
 "nbformat_minor": 2
}
